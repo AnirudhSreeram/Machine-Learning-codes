{
  "nbformat": 4,
  "nbformat_minor": 0,
  "metadata": {
    "colab": {
      "name": "CIFAR10.ipynb",
      "provenance": [],
      "include_colab_link": true
    },
    "kernelspec": {
      "name": "python3",
      "display_name": "Python 3"
    },
    "accelerator": "GPU"
  },
  "cells": [
    {
      "cell_type": "markdown",
      "metadata": {
        "id": "view-in-github",
        "colab_type": "text"
      },
      "source": [
        "<a href=\"https://colab.research.google.com/github/AnirudhSreeram/Machine-Learning-codes/blob/master/CIFAR10.ipynb\" target=\"_parent\"><img src=\"https://colab.research.google.com/assets/colab-badge.svg\" alt=\"Open In Colab\"/></a>"
      ]
    },
    {
      "cell_type": "code",
      "metadata": {
        "id": "TebonMZWqFew",
        "colab_type": "code",
        "colab": {}
      },
      "source": [
        "import torch\n",
        "import torchvision\n",
        "import torchvision.transforms as transforms\n",
        "import numpy \n",
        "import torch.nn as nn\n",
        "import torch.nn.functional as F\n",
        "import torch.optim as optim\n",
        "from torch.autograd import Variable\n",
        "import time"
      ],
      "execution_count": 0,
      "outputs": []
    },
    {
      "cell_type": "code",
      "metadata": {
        "id": "OcP-GfVcf2ok",
        "colab_type": "code",
        "colab": {}
      },
      "source": [
        "transform = transforms.Compose(\n",
        "    [transforms.ToTensor(),\n",
        "     transforms.Normalize((0.5, 0.5, 0.5), (0.5, 0.5, 0.5))])\n"
      ],
      "execution_count": 0,
      "outputs": []
    },
    {
      "cell_type": "code",
      "metadata": {
        "id": "4oOQwOhxqf50",
        "colab_type": "code",
        "colab": {}
      },
      "source": [
        "## Download the training data set from torchvision CIFAR10\n",
        "trainset = torchvision.datasets.CIFAR10(root='./data', train=True,\n",
        "                                        download=True,\n",
        "                                        transform=transform\n",
        "                                        )"
      ],
      "execution_count": 0,
      "outputs": []
    },
    {
      "cell_type": "code",
      "metadata": {
        "id": "X72amVWXsgZk",
        "colab_type": "code",
        "colab": {}
      },
      "source": [
        "##Create a data loader object to handel batching\n",
        "trainloader = torch.utils.data.DataLoader(trainset, batch_size=4,\n",
        "                                          shuffle=True, num_workers=2)"
      ],
      "execution_count": 0,
      "outputs": []
    },
    {
      "cell_type": "code",
      "metadata": {
        "id": "ArbNv8f4tpHW",
        "colab_type": "code",
        "colab": {}
      },
      "source": [
        "## Download the testing data set from torchvision CIFAR10\n",
        "testset =torchvision.datasets.CIFAR10(root='./data' , \n",
        "                                      train=False,\n",
        "                                      download=True,\n",
        "                                      transform=transform)"
      ],
      "execution_count": 0,
      "outputs": []
    },
    {
      "cell_type": "code",
      "metadata": {
        "id": "tFzZ3IbCUCp6",
        "colab_type": "code",
        "colab": {}
      },
      "source": [
        "##Create a data loader object to handel batching\n",
        "testloader=torch.utils.data.DataLoader(testset,batch_size=4, shuffle=True, num_workers=2)"
      ],
      "execution_count": 0,
      "outputs": []
    },
    {
      "cell_type": "code",
      "metadata": {
        "id": "rw95WJ9OUmWr",
        "colab_type": "code",
        "colab": {}
      },
      "source": [
        "###print the class \n",
        "classes = ('plane', 'car', 'bird', 'cat',\n",
        "           'deer', 'dog', 'frog', 'horse', 'ship', 'truck')"
      ],
      "execution_count": 0,
      "outputs": []
    },
    {
      "cell_type": "code",
      "metadata": {
        "id": "pT1tpL_oXy94",
        "colab_type": "code",
        "colab": {}
      },
      "source": [
        "#Set the learining parameters for the model\n",
        "learning = {'rate' : 0.0001,\n",
        "            'minEpoch' : 5,\n",
        "            'lrScale' : 0.5,\n",
        "            'batchSize' : 128,\n",
        "            'lrScaleCount' : 18,\n",
        "            'spliceSize' : 21,\n",
        "            'minValError' : 0.002}"
      ],
      "execution_count": 0,
      "outputs": []
    },
    {
      "cell_type": "code",
      "metadata": {
        "id": "TdzjKiVaUpaz",
        "colab_type": "code",
        "colab": {}
      },
      "source": [
        "#create a class to train the model with a fit function\n",
        "class Train():\n",
        "     def __init__(self):\n",
        "      self.losscv_previous_1=10.0\n",
        "      self.losscv_previous_2=0.0\n",
        "      self.losscv_current=0.0\n",
        "\n",
        "     def fit (self, net, trainloader, testloader,criterion,optimizer,epoch,totalepoch):\n",
        "        net.train()\n",
        "        print('epoch = %d/%d'%(epoch+1,totalepoch))\n",
        "        running_loss_tr =0.0\n",
        "        correct_tr = 0.0\n",
        "        total_tr = 0.0\n",
        "        for i, data in enumerate(trainloader,0):\n",
        "         inputs, labels =data\n",
        "         labels=labels.cuda()\n",
        "         inputs = Variable(inputs)\n",
        "         optimizer.zero_grad()\n",
        "         outputs =net(inputs.cuda().float())\n",
        "         loss =criterion(outputs, labels.detach())\n",
        "         loss.backward()\n",
        "         optimizer.step()\n",
        "         running_loss_tr += loss.item()\n",
        "         _,predicted =torch.max(outputs.data,1)\n",
        "         total_tr += labels.size(0)\n",
        "         correct_tr += (predicted == labels).sum().item()\n",
        "         if i % 2000 == 1999:\n",
        "          print ('[%d,%5d] loss_tr: %.3f' % (epoch+1,i+1,running_loss_tr/2000))\n",
        "          running_loss_tr =0.0\n",
        "          print ('ACCURACY_TR  : %.3f %%' % (100 * correct_tr / total_tr))\n",
        "          #break\n",
        "        print ('Finished Training')\n",
        "#corss validation step   \n",
        "        correct_cv = 0.0\n",
        "        total_cv = 0.0\n",
        "        net.eval()\n",
        "        running_loss_cv=0.0\n",
        "        for j, data in enumerate(testloader,0):\n",
        "           images,label=data\n",
        "           label=label.cuda()\n",
        "           images = Variable(images)\n",
        "           output=net(images.cuda().float())\n",
        "           loss_cv =criterion(output, label.detach())\n",
        "           running_loss_cv += loss_cv.item()\n",
        "           total_cv += label.size(0)\n",
        "           _,predicted =torch.max(output.data,1)\n",
        "           correct_cv += (predicted == label).sum().item()\n",
        "           if j % 200 == 199 :\n",
        "            print ('[%d,%5d] loss_cv: %.3f' % (epoch+1,j+1,running_loss_cv/200))\n",
        "            self.losscv_current=running_loss_cv/200\n",
        "            running_loss_cv =0.0\n",
        "            print ('ACCURACY_CV  : %.3f %%' % (100 * correct_cv / total_cv))\n",
        "            path = F\"/content/gdrive/My Drive/CIFAR10.model\"\n",
        "            torch.save(net.state_dict(),path)\n"
      ],
      "execution_count": 0,
      "outputs": []
    },
    {
      "cell_type": "code",
      "metadata": {
        "id": "eC9FHJ99VNva",
        "colab_type": "code",
        "colab": {}
      },
      "source": [
        "#Initialize the Network\n",
        "class Net(nn.Module):\n",
        "    def __init__(self):\n",
        "        super(Net, self).__init__()\n",
        "        self.conv1 = nn.Conv2d(3, 16, 3)\n",
        "        self.pool = nn.MaxPool2d(2, 2)\n",
        "        self.conv2 = nn.Conv2d(16, 8, 3)\n",
        "        self.fc1 = nn.Linear(8 * 6 * 6, 120)\n",
        "        self.fc2 = nn.Linear(120, 84)\n",
        "        self.fc3 = nn.Linear(84, 10)\n",
        "\n",
        "    def forward(self, x):\n",
        "        x = self.pool(F.relu(self.conv1(x)))\n",
        "        #print(x.shape)\n",
        "        x = self.pool(F.relu(self.conv2(x)))\n",
        "        #print(x.shape)\n",
        "        x = x.view(-1, 8 * 6 *6)\n",
        "        x = F.relu(self.fc1(x))\n",
        "        x = F.relu(self.fc2(x))\n",
        "        x = self.fc3(x)\n",
        "        return x\n",
        "\n"
      ],
      "execution_count": 0,
      "outputs": []
    },
    {
      "cell_type": "code",
      "metadata": {
        "id": "YPQIwzZz2BX9",
        "colab_type": "code",
        "colab": {}
      },
      "source": [
        "#Mount the Drive to save the model\n",
        "from google.colab import drive\n",
        "drive.mount('/content/gdrive')"
      ],
      "execution_count": 0,
      "outputs": []
    },
    {
      "cell_type": "code",
      "metadata": {
        "id": "-TpuMzysXOaK",
        "colab_type": "code",
        "colab": {}
      },
      "source": [
        "# Begin the training\n",
        "net=Net()\n",
        "net=net.cuda()\n",
        "print(net)\n",
        "train1=Train()\n",
        "criterion = nn.CrossEntropyLoss()\n",
        "optimizer = optim.Adam(net.parameters(), lr=learning['rate'],amsgrad=True)"
      ],
      "execution_count": 0,
      "outputs": []
    },
    {
      "cell_type": "code",
      "metadata": {
        "id": "Chm3hR7VYDPh",
        "colab_type": "code",
        "colab": {}
      },
      "source": [
        "path = F\"/content/gdrive/My Drive/CIFAR10.model\"\n",
        "for epoch in range(learning['minEpoch']-1):\n",
        " if(epoch >= 1):\n",
        "         net.load_state_dict(torch.load(path))\n",
        " t0 = time.time()\n",
        " abc=train1.fit(net, trainloader, testloader,criterion,optimizer,epoch,4)\n",
        " print('{} seconds'.format(time.time() - t0))\n"
      ],
      "execution_count": 0,
      "outputs": []
    }
  ]
}